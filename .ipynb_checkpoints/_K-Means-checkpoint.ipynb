{
 "cells": [
  {
   "cell_type": "markdown",
   "metadata": {},
   "source": [
    "# K Means"
   ]
  },
  {
   "cell_type": "code",
   "execution_count": 1,
   "metadata": {},
   "outputs": [],
   "source": [
    "%matplotlib inline\n",
    "import matplotlib.pyplot as plt\n",
    "import pandas as pd\n",
    "import numpy as np\n",
    "import seaborn as sns"
   ]
  },
  {
   "cell_type": "code",
   "execution_count": 2,
   "metadata": {},
   "outputs": [],
   "source": [
    "from sklearn.datasets import make_blobs"
   ]
  },
  {
   "cell_type": "code",
   "execution_count": 3,
   "metadata": {},
   "outputs": [
    {
     "data": {
      "text/plain": [
       "(array([[-6.83463207e+00,  5.39016351e+00],\n",
       "        [-2.89413378e+00, -1.00283586e+01],\n",
       "        [-2.96395561e+00, -9.50718280e+00],\n",
       "        [-2.17107108e+00,  2.45249068e+00],\n",
       "        [-7.83918216e-01,  5.19282416e+00],\n",
       "        [ 4.13192486e+00,  2.60133617e+00],\n",
       "        [-5.66301323e+00,  7.41103454e+00],\n",
       "        [-2.47492602e+00, -9.41528466e+00],\n",
       "        [-1.81862405e+00, -1.11530373e+01],\n",
       "        [-4.87993814e+00,  6.90624564e+00],\n",
       "        [-5.57941015e+00,  5.84954822e+00],\n",
       "        [-5.02962996e+00,  7.91923952e+00],\n",
       "        [-9.43648026e-01,  4.98446374e+00],\n",
       "        [ 5.76713936e+00,  3.87223229e+00],\n",
       "        [-1.62127926e+00, -9.72098842e+00],\n",
       "        [-6.18052582e+00,  7.32482315e+00],\n",
       "        [-1.50234165e+00,  4.07610168e+00],\n",
       "        [-4.05817058e-01,  3.97428134e+00],\n",
       "        [ 4.13634632e+00,  3.97562253e+00],\n",
       "        [-7.14504929e+00,  4.75886528e+00],\n",
       "        [-6.68555554e+00,  6.95379085e+00],\n",
       "        [-2.47571381e+00, -8.28588243e+00],\n",
       "        [-7.78772722e-02, -9.45551459e+00],\n",
       "        [ 1.18399656e-01,  2.62281529e+00],\n",
       "        [-1.98324416e+00, -1.02227838e+01],\n",
       "        [-5.44616460e+00,  5.68420845e+00],\n",
       "        [-7.96642824e+00,  5.34800053e+00],\n",
       "        [-6.62508691e+00,  6.54726699e+00],\n",
       "        [-9.49087838e-01, -9.00962586e+00],\n",
       "        [-5.72054154e+00,  7.33837434e+00],\n",
       "        [-4.00500252e+00, -1.04824463e+01],\n",
       "        [-5.50243705e+00,  8.85206915e+00],\n",
       "        [ 5.32871039e+00,  2.94744215e+00],\n",
       "        [ 1.21980788e-03,  1.76687817e+00],\n",
       "        [-2.40285543e+00,  3.61689504e+00],\n",
       "        [-6.66429368e+00,  6.85611087e+00],\n",
       "        [-1.32512848e+00, -8.28505199e+00],\n",
       "        [ 4.28659414e+00,  2.56129479e+00],\n",
       "        [ 4.88317572e+00,  3.84044661e+00],\n",
       "        [-6.06448939e+00,  5.26174642e+00],\n",
       "        [-5.91919145e+00,  6.81720175e+00],\n",
       "        [-5.56506620e+00,  5.13321586e+00],\n",
       "        [ 5.18745865e+00,  1.52824254e+00],\n",
       "        [-5.20787282e+00,  8.69892563e+00],\n",
       "        [-2.54534827e+00, -8.12265892e+00],\n",
       "        [-3.67174918e+00, -9.32796158e+00],\n",
       "        [-2.13287399e+00, -1.06605537e+01],\n",
       "        [ 6.23732475e+00,  2.89965531e+00],\n",
       "        [-3.31679192e+00, -9.83328700e+00],\n",
       "        [-7.46791990e+00,  7.71038618e+00],\n",
       "        [ 2.88433794e-01,  3.50084232e+00],\n",
       "        [ 5.06262160e+00,  1.92321389e+00],\n",
       "        [-7.12808299e-01,  4.05252798e+00],\n",
       "        [-5.44665077e+00,  5.97328121e+00],\n",
       "        [ 2.91083659e+00,  4.29187994e+00],\n",
       "        [ 6.84813933e+00,  2.72513593e+00],\n",
       "        [ 1.53730191e-02,  3.32722237e+00],\n",
       "        [-1.86997194e+00, -8.60874525e+00],\n",
       "        [-3.19211100e+00, -7.69793780e+00],\n",
       "        [ 5.28048342e+00,  5.29596071e+00],\n",
       "        [-5.29652874e-01,  2.98718501e+00],\n",
       "        [-5.12576931e+00,  6.49139619e+00],\n",
       "        [-2.61077369e+00, -8.53583222e+00],\n",
       "        [-6.27114535e+00,  8.01537544e+00],\n",
       "        [-2.00180309e+00,  3.77625685e+00],\n",
       "        [-1.78207306e+00, -1.04598154e+01],\n",
       "        [ 2.52495817e-02,  4.61687776e+00],\n",
       "        [-6.20014421e+00,  5.91043877e+00],\n",
       "        [ 5.13497967e+00,  2.66317460e+00],\n",
       "        [ 6.30398463e+00,  1.39398290e+00],\n",
       "        [-9.63069654e-01,  2.23240521e+00],\n",
       "        [ 6.46648051e+00,  3.47721858e+00],\n",
       "        [-7.75887230e+00,  7.63762705e+00],\n",
       "        [ 2.36868533e+00,  3.02234309e+00],\n",
       "        [-5.70294466e+00,  7.47098396e+00],\n",
       "        [-3.29610083e+00, -9.77894581e+00],\n",
       "        [-3.16185738e-01,  3.19241775e+00],\n",
       "        [-2.26017928e+00, -1.10192991e+01],\n",
       "        [ 2.40400153e-02,  4.24073515e+00],\n",
       "        [ 5.87411620e+00,  3.63859088e+00],\n",
       "        [-1.76335765e+00, -9.69108131e+00],\n",
       "        [ 5.40521682e+00,  3.66675931e+00],\n",
       "        [ 6.25523484e+00,  5.46566829e+00],\n",
       "        [-8.28606756e+00,  6.36025603e+00],\n",
       "        [-1.35197019e+00,  3.64063802e+00],\n",
       "        [-6.91411004e+00,  7.21340451e+00],\n",
       "        [-6.16267838e+00,  7.54903058e+00],\n",
       "        [-5.16522796e-01,  3.85614601e+00],\n",
       "        [-7.89576583e+00,  7.56569987e+00],\n",
       "        [-6.25999653e+00,  7.77528646e+00],\n",
       "        [ 2.96028887e-01,  4.27464941e+00],\n",
       "        [-6.67613716e+00,  5.97465729e+00],\n",
       "        [-3.31146427e+00, -8.82555443e+00],\n",
       "        [ 6.61937943e+00,  3.58326697e+00],\n",
       "        [-5.83817255e+00,  5.11347362e+00],\n",
       "        [ 4.60076157e+00,  4.31601067e+00],\n",
       "        [-7.17580907e+00,  7.11888687e+00],\n",
       "        [-9.09809632e+00,  6.02028238e+00],\n",
       "        [-1.18175377e+00,  2.39120227e+00],\n",
       "        [-5.48982004e+00,  6.32893948e+00],\n",
       "        [-1.07656820e+00,  2.96975439e+00],\n",
       "        [-8.31292090e+00,  7.72538512e+00],\n",
       "        [-7.44342231e-01,  4.83677670e+00],\n",
       "        [ 5.28215096e+00,  2.77051703e+00],\n",
       "        [-1.22456770e+00, -8.56470174e+00],\n",
       "        [ 5.45803316e+00,  3.42559286e+00],\n",
       "        [-5.11994522e+00,  5.69575534e+00],\n",
       "        [ 4.27396691e+00,  2.09620500e+00],\n",
       "        [-1.41868536e+00, -1.08142507e+01],\n",
       "        [ 5.27485280e+00,  4.19545492e+00],\n",
       "        [-1.59014523e+00, -1.06223179e+01],\n",
       "        [-1.19879534e+00, -9.67345904e+00],\n",
       "        [-3.59096957e+00, -9.01343537e+00],\n",
       "        [-2.54227755e-01,  3.47823314e+00],\n",
       "        [-3.71138158e+00, -9.94827853e+00],\n",
       "        [ 4.81284172e+00,  2.20488876e+00],\n",
       "        [-4.77045741e+00,  6.73841373e+00],\n",
       "        [ 2.42781121e+00,  2.99852239e+00],\n",
       "        [-7.22788767e-01, -8.65897525e+00],\n",
       "        [-2.46832000e+00, -1.04273690e+01],\n",
       "        [ 6.29320204e+00,  4.08977305e+00],\n",
       "        [ 5.96353884e+00,  3.00352552e+00],\n",
       "        [-1.18728941e+00, -1.04242712e+01],\n",
       "        [-1.61695462e+00,  4.07778582e+00],\n",
       "        [-8.09257745e-01,  2.95657586e+00],\n",
       "        [ 5.96895435e+00,  3.42721462e+00],\n",
       "        [ 4.65878995e+00,  4.21609263e+00],\n",
       "        [-6.42201285e+00,  4.79579101e+00],\n",
       "        [-4.98870839e-01, -8.27169074e+00],\n",
       "        [-2.29680869e+00,  3.96879145e-01],\n",
       "        [ 3.74913593e-01,  3.61151922e+00],\n",
       "        [-2.17787276e+00,  3.21399919e+00],\n",
       "        [-3.19081847e-01,  3.04688280e+00],\n",
       "        [-2.19211980e-01,  3.57215375e+00],\n",
       "        [-7.37701277e+00,  6.52020989e+00],\n",
       "        [-8.82753306e-01,  4.17699486e+00],\n",
       "        [-1.31395912e+00, -9.79367922e+00],\n",
       "        [ 5.83642622e+00,  2.44787214e+00],\n",
       "        [ 5.21845781e+00,  3.37475685e+00],\n",
       "        [-2.13518185e+00,  3.21998309e+00],\n",
       "        [-6.13392958e+00,  7.87161241e+00],\n",
       "        [-3.05137694e+00, -9.51942240e+00],\n",
       "        [ 4.85708042e+00,  2.74944015e+00],\n",
       "        [-2.20295842e-01,  3.30627977e+00],\n",
       "        [ 4.66391443e+00,  4.63362146e+00],\n",
       "        [ 5.37759566e+00,  4.53454481e+00],\n",
       "        [-3.72645306e+00, -1.10107833e+01],\n",
       "        [-6.65150084e+00,  5.36310455e+00],\n",
       "        [ 6.46073933e+00,  2.68186941e+00],\n",
       "        [ 4.60483074e+00,  3.49373426e+00],\n",
       "        [-4.75036597e+00,  5.24406872e+00],\n",
       "        [ 5.49072964e+00,  3.52061060e+00],\n",
       "        [-7.77058617e+00,  4.11976852e+00],\n",
       "        [ 4.79145468e+00,  2.14355642e+00],\n",
       "        [ 1.24949243e+00,  1.99076559e+00],\n",
       "        [ 5.68812448e+00,  2.88005873e+00],\n",
       "        [-3.48786800e+00, -9.88779686e+00],\n",
       "        [ 5.59139090e+00,  2.45988128e+00],\n",
       "        [-2.49638620e+00, -1.00642299e+01],\n",
       "        [-1.39746236e+00,  2.70590732e+00],\n",
       "        [-5.48474492e-01,  4.37591683e+00],\n",
       "        [ 2.51113840e-01,  5.65835486e+00],\n",
       "        [-2.30213282e+00, -1.02665894e+01],\n",
       "        [-3.37256486e+00, -8.80562896e+00],\n",
       "        [ 1.10842462e+00,  2.30638083e+00],\n",
       "        [-3.72798672e+00, -7.51557908e+00],\n",
       "        [ 6.76775738e+00,  2.20704935e+00],\n",
       "        [-4.86624837e+00,  5.46032367e+00],\n",
       "        [-1.47389139e+00,  2.94735736e+00],\n",
       "        [ 1.58812063e-01,  2.21885197e+00],\n",
       "        [-5.25962567e-02,  4.12655225e+00],\n",
       "        [-5.84739571e+00,  5.49759659e+00],\n",
       "        [-1.94905991e+00, -9.70664841e+00],\n",
       "        [-3.40129901e+00, -9.49773268e+00],\n",
       "        [ 5.65277886e+00,  2.04310584e+00],\n",
       "        [ 5.58427678e+00,  5.36921101e+00],\n",
       "        [-3.72938923e+00,  6.31841815e+00],\n",
       "        [-7.25386463e-02,  3.31493806e+00],\n",
       "        [-5.43096629e+00,  6.59735857e+00],\n",
       "        [-1.93609173e+00,  4.02674450e+00],\n",
       "        [ 5.29181269e+00,  3.92992572e+00],\n",
       "        [-5.59708346e+00,  5.38965962e+00],\n",
       "        [-1.39553603e+00,  2.09127710e+00],\n",
       "        [-1.13901029e+00,  3.76120228e+00],\n",
       "        [-2.32799657e+00, -1.12332165e+01],\n",
       "        [ 4.21553560e+00,  4.57208876e+00],\n",
       "        [-2.54285397e+00, -8.74105898e+00],\n",
       "        [-3.26837742e+00, -8.41437173e+00],\n",
       "        [-2.20241330e+00, -9.51447751e+00],\n",
       "        [-2.21099243e+00, -1.09989061e+01],\n",
       "        [ 3.46531320e+00,  2.63877998e+00],\n",
       "        [-2.75953008e+00, -1.04559493e+01],\n",
       "        [ 5.04951419e+00,  2.57367355e+00],\n",
       "        [-6.22524259e+00,  7.63877103e+00],\n",
       "        [-1.02835978e+00,  3.78294626e+00],\n",
       "        [ 4.00018492e+00,  3.03273475e+00],\n",
       "        [-2.13786940e+00,  4.40980701e+00],\n",
       "        [-9.64918789e-01,  3.77525667e+00],\n",
       "        [-3.14170830e+00, -8.82090273e+00],\n",
       "        [ 4.38998706e+00,  2.97736063e+00]]),\n",
       " array([3, 0, 0, 2, 2, 1, 3, 0, 0, 3, 3, 3, 2, 1, 0, 3, 2, 2, 1, 3, 3, 0,\n",
       "        0, 2, 0, 3, 3, 3, 0, 3, 0, 3, 1, 2, 2, 3, 0, 1, 1, 3, 3, 3, 1, 3,\n",
       "        0, 0, 0, 1, 0, 3, 2, 1, 2, 3, 1, 1, 2, 0, 0, 1, 2, 3, 0, 3, 2, 0,\n",
       "        2, 3, 1, 1, 2, 1, 3, 2, 3, 0, 2, 0, 2, 1, 0, 1, 1, 3, 2, 3, 3, 2,\n",
       "        3, 3, 2, 3, 0, 1, 3, 1, 3, 3, 2, 3, 2, 3, 2, 1, 0, 1, 3, 1, 0, 1,\n",
       "        0, 0, 0, 2, 0, 1, 3, 1, 0, 0, 1, 1, 0, 2, 2, 1, 1, 3, 0, 2, 2, 2,\n",
       "        2, 2, 3, 2, 0, 1, 1, 2, 3, 0, 1, 2, 1, 1, 0, 3, 1, 1, 3, 1, 3, 1,\n",
       "        2, 1, 0, 1, 0, 2, 2, 2, 0, 0, 2, 0, 1, 3, 2, 2, 2, 3, 0, 0, 1, 1,\n",
       "        3, 2, 3, 2, 1, 3, 2, 2, 0, 1, 0, 0, 0, 0, 1, 0, 1, 3, 2, 1, 2, 2,\n",
       "        0, 1]))"
      ]
     },
     "execution_count": 3,
     "metadata": {},
     "output_type": "execute_result"
    }
   ],
   "source": [
    "datos = make_blobs(n_samples=200, n_features=2, centers=4)\n",
    "datos"
   ]
  },
  {
   "cell_type": "code",
   "execution_count": 5,
   "metadata": {},
   "outputs": [
    {
     "data": {
      "text/plain": [
       "<matplotlib.collections.PathCollection at 0x2337511c550>"
      ]
     },
     "execution_count": 5,
     "metadata": {},
     "output_type": "execute_result"
    },
    {
     "data": {
      "image/png": "[encoded data removed]",
      "text/plain": [
       "<Figure size 432x288 with 1 Axes>"
      ]
     },
     "metadata": {
      "needs_background": "light"
     },
     "output_type": "display_data"
    }
   ],
   "source": [
    "plt.scatter(datos[0][:,0],datos[0][:,1])"
   ]
  },
  {
   "cell_type": "code",
   "execution_count": 7,
   "metadata": {},
   "outputs": [],
   "source": [
    "from sklearn.cluster import KMeans"
   ]
  },
  {
   "cell_type": "code",
   "execution_count": 8,
   "metadata": {},
   "outputs": [
    {
     "data": {
      "text/plain": [
       "KMeans(algorithm='auto', copy_x=True, init='k-means++', max_iter=300,\n",
       "       n_clusters=4, n_init=10, n_jobs=None, precompute_distances='auto',\n",
       "       random_state=None, tol=0.0001, verbose=0)"
      ]
     },
     "execution_count": 8,
     "metadata": {},
     "output_type": "execute_result"
    }
   ],
   "source": [
    "kmeans = KMeans(n_clusters=4)\n",
    "kmeans.fit(datos[0])"
   ]
  },
  {
   "cell_type": "code",
   "execution_count": 9,
   "metadata": {},
   "outputs": [
    {
     "data": {
      "text/plain": [
       "array([[ 5.147091  ,  3.26237531],\n",
       "       [-2.38473081, -9.57587104],\n",
       "       [-6.22908967,  6.52512947],\n",
       "       [-0.75043311,  3.4516721 ]])"
      ]
     },
     "execution_count": 9,
     "metadata": {},
     "output_type": "execute_result"
    }
   ],
   "source": [
    "kmeans.cluster_centers_"
   ]
  },
  {
   "cell_type": "code",
   "execution_count": 10,
   "metadata": {},
   "outputs": [
    {
     "data": {
      "text/plain": [
       "array([2, 1, 1, 3, 3, 0, 2, 1, 1, 2, 2, 2, 3, 0, 1, 2, 3, 3, 0, 2, 2, 1,\n",
       "       1, 3, 1, 2, 2, 2, 1, 2, 1, 2, 0, 3, 3, 2, 1, 0, 0, 2, 2, 2, 0, 2,\n",
       "       1, 1, 1, 0, 1, 2, 3, 0, 3, 2, 0, 0, 3, 1, 1, 0, 3, 2, 1, 2, 3, 1,\n",
       "       3, 2, 0, 0, 3, 0, 2, 0, 2, 1, 3, 1, 3, 0, 1, 0, 0, 2, 3, 2, 2, 3,\n",
       "       2, 2, 3, 2, 1, 0, 2, 0, 2, 2, 3, 2, 3, 2, 3, 0, 1, 0, 2, 0, 1, 0,\n",
       "       1, 1, 1, 3, 1, 0, 2, 0, 1, 1, 0, 0, 1, 3, 3, 0, 0, 2, 1, 3, 3, 3,\n",
       "       3, 3, 2, 3, 1, 0, 0, 3, 2, 1, 0, 3, 0, 0, 1, 2, 0, 0, 2, 0, 2, 0,\n",
       "       3, 0, 1, 0, 1, 3, 3, 3, 1, 1, 3, 1, 0, 2, 3, 3, 3, 2, 1, 1, 0, 0,\n",
       "       2, 3, 2, 3, 0, 2, 3, 3, 1, 0, 1, 1, 1, 1, 0, 1, 0, 2, 3, 0, 3, 3,\n",
       "       1, 0])"
      ]
     },
     "execution_count": 10,
     "metadata": {},
     "output_type": "execute_result"
    }
   ],
   "source": [
    "kmeans.labels_"
   ]
  },
  {
   "cell_type": "code",
   "execution_count": 11,
   "metadata": {},
   "outputs": [
    {
     "data": {
      "text/plain": [
       "array([3, 0, 0, 2, 2, 1, 3, 0, 0, 3, 3, 3, 2, 1, 0, 3, 2, 2, 1, 3, 3, 0,\n",
       "       0, 2, 0, 3, 3, 3, 0, 3, 0, 3, 1, 2, 2, 3, 0, 1, 1, 3, 3, 3, 1, 3,\n",
       "       0, 0, 0, 1, 0, 3, 2, 1, 2, 3, 1, 1, 2, 0, 0, 1, 2, 3, 0, 3, 2, 0,\n",
       "       2, 3, 1, 1, 2, 1, 3, 2, 3, 0, 2, 0, 2, 1, 0, 1, 1, 3, 2, 3, 3, 2,\n",
       "       3, 3, 2, 3, 0, 1, 3, 1, 3, 3, 2, 3, 2, 3, 2, 1, 0, 1, 3, 1, 0, 1,\n",
       "       0, 0, 0, 2, 0, 1, 3, 1, 0, 0, 1, 1, 0, 2, 2, 1, 1, 3, 0, 2, 2, 2,\n",
       "       2, 2, 3, 2, 0, 1, 1, 2, 3, 0, 1, 2, 1, 1, 0, 3, 1, 1, 3, 1, 3, 1,\n",
       "       2, 1, 0, 1, 0, 2, 2, 2, 0, 0, 2, 0, 1, 3, 2, 2, 2, 3, 0, 0, 1, 1,\n",
       "       3, 2, 3, 2, 1, 3, 2, 2, 0, 1, 0, 0, 0, 0, 1, 0, 1, 3, 2, 1, 2, 2,\n",
       "       0, 1])"
      ]
     },
     "execution_count": 11,
     "metadata": {},
     "output_type": "execute_result"
    }
   ],
   "source": [
    "datos[1]"
   ]
  },
  {
   "cell_type": "code",
   "execution_count": 12,
   "metadata": {},
   "outputs": [
    {
     "data": {
      "text/plain": [
       "Text(0.5, 1.0, 'Datos originales')"
      ]
     },
     "execution_count": 12,
     "metadata": {},
     "output_type": "execute_result"
    },
    {
     "data": {
      "image/png": "[encoded data removed]",
      "text/plain": [
       "<Figure size 864x288 with 2 Axes>"
      ]
     },
     "metadata": {
      "needs_background": "light"
     },
     "output_type": "display_data"
    }
   ],
   "source": [
    "fig, (ax1, ax2) = plt.subplots(1,2,figsize=(12,4))\n",
    "ax1.scatter(datos[0][:,0],datos[0][:,1], c=kmeans.labels_)\n",
    "ax1.set_title('Algoritmo de K-Means')\n",
    "\n",
    "ax2.scatter(datos[0][:,0],datos[0][:,1], c=datos[1])\n",
    "ax2.set_title('Datos originales')"
   ]
  }
 ],
 "metadata": {
  "kernelspec": {
   "display_name": "Python 3",
   "language": "python",
   "name": "python3"
  },
  "language_info": {
   "codemirror_mode": {
    "name": "ipython",
    "version": 3
   },
   "file_extension": ".py",
   "mimetype": "text/x-python",
   "name": "python",
   "nbconvert_exporter": "python",
   "pygments_lexer": "ipython3",
   "version": "3.7.3"
  }
 },
 "nbformat": 4,
 "nbformat_minor": 2
}
